{
 "cells": [
  {
   "cell_type": "markdown",
   "id": "a4133ad0",
   "metadata": {},
   "source": [
    "# mas"
   ]
  },
  {
   "cell_type": "code",
   "execution_count": 1,
   "id": "882de303",
   "metadata": {},
   "outputs": [
    {
     "name": "stdout",
     "output_type": "stream",
     "text": [
      "['viscoelastic_parallel_1.png']\n",
      "['static_equilibrium_1.png']\n",
      "['long_jump_equivalent_approach.png']\n",
      "['standing_man_problem.png']\n",
      "['curvilinear_motion_1.png']\n",
      "['standard_linear_solid_1.png']\n",
      "['viscoelastic_exam_1.png']\n",
      "['standing_man2_1.png', 'standing_man2_2.png', 'standing_man2_3.png']\n",
      "['mass_moment_inertia_1.png']\n"
     ]
    }
   ],
   "source": [
    "# load the questions \n",
    "from pathlib import Path\n",
    "import json\n",
    "from base64 import b64decode, b64encode\n",
    "\n",
    "dataset = []\n",
    "\n",
    "path = Path('data/set1')\n",
    "questions = []\n",
    "for file in path.glob('*.json'):\n",
    "    with open(file, 'r') as f:\n",
    "        data = json.load(f)\n",
    "        # questions.extend(data['questions'])\n",
    "        question = data.get('topic') \n",
    "        images = data.get('images') if data.get('images') else data.get('image')\n",
    "        answer = data.get('answer')\n",
    "        print(images)\n",
    "        dataset.append({\n",
    "            'id': file.as_posix(),\n",
    "            'question': question,\n",
    "            'images': [str(path/image) for image in images],\n",
    "            'answer': answer\n",
    "        })\n",
    "        "
   ]
  },
  {
   "cell_type": "code",
   "execution_count": 2,
   "id": "70423a92",
   "metadata": {},
   "outputs": [
    {
     "ename": "ModuleNotFoundError",
     "evalue": "No module named 'langchain_core'",
     "output_type": "error",
     "traceback": [
      "\u001b[0;31m---------------------------------------------------------------------------\u001b[0m",
      "\u001b[0;31mModuleNotFoundError\u001b[0m                       Traceback (most recent call last)",
      "Cell \u001b[0;32mIn[2], line 1\u001b[0m\n\u001b[0;32m----> 1\u001b[0m \u001b[38;5;28;01mfrom\u001b[39;00m\u001b[38;5;250m \u001b[39m\u001b[38;5;21;01mlangchain_core\u001b[39;00m\u001b[38;5;21;01m.\u001b[39;00m\u001b[38;5;21;01mmessages\u001b[39;00m\u001b[38;5;250m \u001b[39m\u001b[38;5;28;01mimport\u001b[39;00m HumanMessage\n\u001b[1;32m      2\u001b[0m \u001b[38;5;28;01mdef\u001b[39;00m\u001b[38;5;250m \u001b[39m\u001b[38;5;21mbuild_message\u001b[39m(data):\n\u001b[1;32m      3\u001b[0m     question \u001b[38;5;241m=\u001b[39m data[\u001b[38;5;124m'\u001b[39m\u001b[38;5;124mquestion\u001b[39m\u001b[38;5;124m'\u001b[39m]\n",
      "\u001b[0;31mModuleNotFoundError\u001b[0m: No module named 'langchain_core'"
     ]
    }
   ],
   "source": [
    "from langchain_core.messages import HumanMessage\n",
    "def build_message(data):\n",
    "    question = data['question']\n",
    "    images = data['images']\n",
    "    answer = data['answer']\n",
    "    \n",
    "    \n",
    "    content = []\n",
    "    content.append({\n",
    "        'type': 'text',\n",
    "        'text': question\n",
    "    })\n",
    "    \n",
    "    \n",
    "    for image in images:\n",
    "        with open(image, 'rb') as f:\n",
    "            image_data = b64encode(f.read()).decode('utf-8')\n",
    "            content.append({\n",
    "                'type': 'image',\n",
    "                'source_type': 'base64',\n",
    "                'data': image_data,\n",
    "                'mime_type': 'image/jpeg'\n",
    "            })\n",
    "    \n",
    "    msg = HumanMessage(content=content)\n",
    "    return msg"
   ]
  },
  {
   "cell_type": "code",
   "execution_count": null,
   "id": "7934cdb6",
   "metadata": {},
   "outputs": [],
   "source": [
    "# build the mas\n",
    "from src.solver import Solver,Manager, Reviewer,save_msg\n",
    "from src.state import State\n",
    "from langchain_openai import ChatOpenAI\n",
    "\n",
    "# llm = ChatOpenAI(model_name=\"gpt-4.1\", temperature=0.6, max_tokens=4096)\n",
    "llm = ChatOpenAI(model_name=\"qwem2.5-vl-72b-instruct\",temperature=0.6,top_p = 0.95,base_url = 'http://127.0.0.1/1234')\n",
    "solver = Solver(llm=llm)\n",
    "manager = Manager(llm=llm)\n",
    "reviewer = Reviewer(llm=llm)\n",
    "\n",
    "from langgraph.graph import StateGraph,END\n",
    "\n",
    "graph = StateGraph(state_schema=State)\n",
    "\n",
    "# add nodes\n",
    "graph.add_node(manager)\n",
    "graph.add_node(solver)\n",
    "graph.add_node(reviewer)\n",
    "\n",
    "# add edges\n",
    "def router(state: State):\n",
    "    return state['send_to']\n",
    "\n",
    "graph.add_conditional_edges(manager.__name__,router,path_map={\n",
    "    'NEXT': solver.__name__,\n",
    "    \"END\": reviewer.__name__,\n",
    "})\n",
    "graph.set_entry_point(manager.__name__)\n",
    "\n",
    "graph.add_edge(solver.__name__, manager.__name__)\n",
    "graph.add_edge(reviewer.__name__, END)\n",
    "\n",
    "app = graph.compile()\n"
   ]
  },
  {
   "cell_type": "code",
   "execution_count": null,
   "id": "afa7ac92",
   "metadata": {},
   "outputs": [],
   "source": [
    "from IPython.display import Image, display\n",
    "from langchain_core.runnables.graph import CurveStyle, MermaidDrawMethod, NodeStyles\n",
    "import os\n",
    "os.environ[\"LANGGRAPH_MERMAID_DRAW_METHOD\"] = \"PYPPETEER\"\n",
    "display(Image(app.get_graph().draw_mermaid_png()))\n",
    "# print(app.get_graph().draw_mermaid())   # should look like 'graph TD;\\n START-->…'"
   ]
  },
  {
   "cell_type": "code",
   "execution_count": null,
   "id": "01269722",
   "metadata": {},
   "outputs": [],
   "source": [
    "config = {\"configurable\":{'thread_id':'s'}}\n",
    "\n",
    "from langchain_core.prompts import ChatPromptTemplate\n",
    "\n",
    "for datas in dataset[2:]:\n",
    "\n",
    "    human_message = build_message(datas)\n",
    "    answer = dataset[0]['answer']\n",
    "    human_message.pretty_print()\n",
    "    for s in app.stream(input={\n",
    "        'messages': [human_message],\n",
    "        'ground_truth': answer,\n",
    "    },config=config):\n",
    "        try:\n",
    "            for k,v in s.items():\n",
    "                print(f'key: {k}')\n",
    "                msgs = v\n",
    "                \n",
    "                for m in msgs['messages']:\n",
    "                    # print(m.name)\n",
    "                    # if m.name == k:\n",
    "                    m.pretty_print()\n",
    "                \n",
    "                print(f'send_to: {msgs[\"send_to\"]}')  \n",
    "        except Exception as e:\n",
    "            print(s)\n",
    "\n",
    "\n",
    "    # save the messages\n",
    "    md_file = datas['id'].replace('.json', '.md')\n",
    "    with open(md_file, 'w') as f:\n",
    "        for msg in msgs['messages']:\n",
    "            if msg.__class__.__name__ == 'HumanMessage':\n",
    "                continue\n",
    "            f.write(f'# {msg.name}\\n\\n')\n",
    "            f.write(msg.content)\n",
    "            f.write('\\n\\n')\n",
    "    f.close()"
   ]
  },
  {
   "cell_type": "code",
   "execution_count": null,
   "id": "971aa79c",
   "metadata": {},
   "outputs": [],
   "source": [
    "msgs['messages'][0].__class__.__name__"
   ]
  }
 ],
 "metadata": {
  "kernelspec": {
   "display_name": "base",
   "language": "python",
   "name": "python3"
  },
  "language_info": {
   "codemirror_mode": {
    "name": "ipython",
    "version": 3
   },
   "file_extension": ".py",
   "mimetype": "text/x-python",
   "name": "python",
   "nbconvert_exporter": "python",
   "pygments_lexer": "ipython3",
   "version": "3.13.5"
  }
 },
 "nbformat": 4,
 "nbformat_minor": 5
}
