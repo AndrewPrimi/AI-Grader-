{
 "cells": [
  {
   "cell_type": "code",
   "execution_count": 36,
   "id": "1885a5c0",
   "metadata": {},
   "outputs": [
    {
     "name": "stdout",
     "output_type": "stream",
     "text": [
      "1\n",
      "Coding Question and Sample Response\n",
      "Question:\n",
      "Write a Python function is_palindrome(s: str) -> bool \n",
      "\n",
      "{'producer': 'ReportLab PDF Library - www.reportlab.com', 'creator': '(unspecified)', 'creationdate': '2025-09-02T21:12:10+00:00', 'author': '(anonymous)', 'keywords': '', 'moddate': '2025-09-02T21:12:10+00:00', 'subject': '(unspecified)', 'title': '(anonymous)', 'trapped': '/False', 'source': './Data/coding_question.pdf', 'total_pages': 1, 'page': 0, 'page_label': '1'}\n",
      "the number of splits 9\n"
     ]
    }
   ],
   "source": [
    "import getpass\n",
    "import os\n",
    "\n",
    "os.environ[\"LANGSMITH_TRACING\"] = \"true\"\n",
    "os.environ[\"LANGSMITH_API_KEY\"] = getpass.getpass(\"Enter LangSmith API key\")\n",
    "\n",
    "if not os.environ.get(\"GOOGLE_API_KEY\"):\n",
    "  os.environ[\"GOOGLE_API_KEY\"] = getpass.getpass(\"Enter API key for Google Gemini: \")\n",
    "\n",
    "from langchain.chat_models import init_chat_model\n",
    "\n",
    "llm = init_chat_model(\"gemini-2.5-flash\", model_provider=\"google_genai\")\n",
    "\n",
    "from langchain_community.document_loaders import PyPDFLoader\n",
    "\n",
    "# Load PDF\n",
    "file_path = \"./Data/coding_question.pdf\"\n",
    "loader = PyPDFLoader(file_path)\n",
    "\n",
    "docs = loader.load()\n",
    "\n",
    "\n",
    "print(len(docs))\n",
    "\n",
    "\n",
    "print(f\"{docs[0].page_content[:100]}\\n\")\n",
    "print(docs[0].metadata)\n",
    "\n",
    "#Splitting the document into chunks\n",
    "from langchain.text_splitter import RecursiveCharacterTextSplitter\n",
    "\n",
    "text_splitter = RecursiveCharacterTextSplitter(chunk_size=100, chunk_overlap=20)\n",
    "texts = text_splitter.split_documents(docs) \n",
    "\n",
    "print(\"the number of splits\" ,len(texts))\n"
   ]
  },
  {
   "cell_type": "code",
   "execution_count": 37,
   "id": "a0343801",
   "metadata": {},
   "outputs": [
    {
     "name": "stdout",
     "output_type": "stream",
     "text": [
      "Generated vectors of length 768\n",
      "\n",
      "[0.029457075521349907, -0.013316336087882519, -0.013263420201838017, 0.0026578360702842474, -0.007666107267141342, 0.01710936799645424, 0.004043556749820709, 0.03881657496094704, -0.06280161440372467, -0.0033737951889634132]\n"
     ]
    }
   ],
   "source": [
    "import getpass\n",
    "import os\n",
    "\n",
    "from langchain_huggingface import HuggingFaceEmbeddings\n",
    "\n",
    "embeddings = HuggingFaceEmbeddings(model_name=\"sentence-transformers/all-mpnet-base-v2\")\n",
    "\n",
    "vector_1 = embeddings.embed_query(texts[0].page_content)\n",
    "\n",
    "#assert len(vector_1) == len(vector_2)\n",
    "print(f\"Generated vectors of length {len(vector_1)}\\n\")\n",
    "print(vector_1[:10])\n"
   ]
  },
  {
   "cell_type": "code",
   "execution_count": 38,
   "id": "3fcafbe5",
   "metadata": {},
   "outputs": [
    {
     "name": "stdout",
     "output_type": "stream",
     "text": [
      "Score: 0.41184929626419836\n",
      "\n",
      "page_content='Write a Python function is_palindrome(s: str) -> bool that determines whether a given string is a' metadata={'producer': 'ReportLab PDF Library - www.reportlab.com', 'creator': '(unspecified)', 'creationdate': '2025-09-02T21:12:10+00:00', 'author': '(anonymous)', 'keywords': '', 'moddate': '2025-09-02T21:12:10+00:00', 'subject': '(unspecified)', 'title': '(anonymous)', 'trapped': '/False', 'source': './Data/coding_question.pdf', 'total_pages': 1, 'page': 0, 'page_label': '1'}\n",
      "(Document(id='e6222a9a-fe9a-4e51-a6eb-3eaeb3f0fae6', metadata={'producer': 'ReportLab PDF Library - www.reportlab.com', 'creator': '(unspecified)', 'creationdate': '2025-09-02T21:12:10+00:00', 'author': '(anonymous)', 'keywords': '', 'moddate': '2025-09-02T21:12:10+00:00', 'subject': '(unspecified)', 'title': '(anonymous)', 'trapped': '/False', 'source': './Data/coding_question.pdf', 'total_pages': 1, 'page': 0, 'page_label': '1'}, page_content='Write a Python function is_palindrome(s: str) -> bool that determines whether a given string is a'), 0.41184929626419836)\n"
     ]
    }
   ],
   "source": [
    "# Vector Stores \n",
    "\n",
    "from langchain_core.vectorstores import InMemoryVectorStore\n",
    "\n",
    "vector_store = InMemoryVectorStore(embeddings)\n",
    "ids = vector_store.add_documents(documents=texts)\n",
    "\n",
    "# Note that providers implement different scores; the score here\n",
    "# is a distance metric that varies inversely with similarity.\n",
    "\n",
    "results = vector_store.similarity_search_with_score(\"write a python function\")\n",
    "doc, score = results[0]\n",
    "print(f\"Score: {score}\\n\")\n",
    "print(doc)\n",
    "\n",
    "print(results[0])\n"
   ]
  },
  {
   "cell_type": "code",
   "execution_count": null,
   "id": "25de5da7",
   "metadata": {},
   "outputs": [
    {
     "data": {
      "text/plain": [
       "[[Document(id='1077ba44-0e40-4997-96a6-e5461f6f7a30', metadata={'producer': 'ReportLab PDF Library - www.reportlab.com', 'creator': '(unspecified)', 'creationdate': '2025-09-02T21:12:10+00:00', 'author': '(anonymous)', 'keywords': '', 'moddate': '2025-09-02T21:12:10+00:00', 'subject': '(unspecified)', 'title': '(anonymous)', 'trapped': '/False', 'source': './Data/coding_question.pdf', 'total_pages': 1, 'page': 0, 'page_label': '1'}, page_content='Coding Question and Sample Response\\nQuestion:')],\n",
       " [Document(id='15165400-db86-4653-bf4b-34742a3c2bf2', metadata={'producer': 'ReportLab PDF Library - www.reportlab.com', 'creator': '(unspecified)', 'creationdate': '2025-09-02T21:12:10+00:00', 'author': '(anonymous)', 'keywords': '', 'moddate': '2025-09-02T21:12:10+00:00', 'subject': '(unspecified)', 'title': '(anonymous)', 'trapped': '/False', 'source': './Data/coding_question.pdf', 'total_pages': 1, 'page': 0, 'page_label': '1'}, page_content='print(is_palindrome(\"Hello\"))  # False')]]"
      ]
     },
     "execution_count": 39,
     "metadata": {},
     "output_type": "execute_result"
    }
   ],
   "source": [
    "# Retrivers\n",
    "retriever = vector_store.as_retriever(\n",
    "    search_type=\"similarity\",\n",
    "    search_kwargs={\"k\": 1},\n",
    ")\n",
    "\n",
    "retriever.batch(\n",
    "    [\n",
    "        \"How many distribution centers does Nike have in the US?\",\n",
    "        \"When was Nike incorporated?\",\n",
    "    ],\n",
    ")"
   ]
  },
  {
   "cell_type": "code",
   "execution_count": null,
   "id": "8e4abf2a",
   "metadata": {},
   "outputs": [
    {
     "name": "stderr",
     "output_type": "stream",
     "text": [
      "Failed to send compressed multipart ingest: langsmith.utils.LangSmithAuthError: Authentication failed for https://api.smith.langchain.com/runs/multipart. HTTPError('401 Client Error: Unauthorized for url: https://api.smith.langchain.com/runs/multipart', '{\"error\":\"Unauthorized\"}\\n')trace=9ea21dfb-3cca-4ddc-a21e-a64306575e7d,id=9ea21dfb-3cca-4ddc-a21e-a64306575e7d; trace=9ea21dfb-3cca-4ddc-a21e-a64306575e7d,id=8627a355-1582-4045-b5d7-0341f77bac1e; trace=9ea21dfb-3cca-4ddc-a21e-a64306575e7d,id=8627a355-1582-4045-b5d7-0341f77bac1e; trace=9ea21dfb-3cca-4ddc-a21e-a64306575e7d,id=ea9ce8ae-e93b-4182-9882-93918d63f074; trace=9ea21dfb-3cca-4ddc-a21e-a64306575e7d,id=5048f72e-252e-4422-9a7d-ce2829b0e7f1\n"
     ]
    },
    {
     "name": "stdout",
     "output_type": "stream",
     "text": [
      "As a reviewer agent, I have analyzed the provided \"Sample Response\" against the implied \"Question\" and the standards for a complete and correct solution.\n",
      "\n",
      "**Question (Inferred):**\n",
      "\"Write a Python function `is_palindrome(s: str) -> bool` that checks if a given string `s` is a palindrome. The function should ignore spaces, punctuation, and capitalization when determining if the string is a palindrome.\"\n",
      "\n",
      "**Ground Truth (Assumed for evaluation):**\n",
      "A correct ground truth would include:\n",
      "1.  A Python function `def is_palindrome(s: str) -> bool:`\n",
      "2.  Implementation logic that:\n",
      "    *   Converts the input string `s` to lowercase.\n",
      "    *   Removes all non-alphanumeric characters (punctuation and spaces).\n",
      "    *   Compares the cleaned string with its reverse.\n",
      "3.  Correct example usage demonstrating the function.\n",
      "4.  A clear and accurate definition of a palindrome.\n",
      "\n",
      "**Review and Evaluation:**\n",
      "\n",
      "The \"Sample Response\" provided is severely incomplete. It gives the function signature, an example usage, and a definition of a palindrome, but **it completely omits the actual implementation code** for the `is_palindrome` function. The core logic that solves the problem is missing.\n",
      "\n",
      "**Scoring Details:**\n",
      "\n",
      "*   **Function Signature and Type Hints (5/10):** The provided signature `def is_palindrome(s: str) -> bool:` is perfectly correct and follows Python's type hinting conventions. This is a good start.\n",
      "*   **Core Implementation Logic (0/60):** This is the most critical part of the solution, and it is entirely absent. There is no code provided to actually perform the palindrome check, handle character normalization, or compare the string with its reverse.\n",
      "*   **Handling of Constraints (0/15):** The question explicitly asks to ignore spaces, punctuation, and capitalization. Without the implementation code, there is no way to verify if these constraints would have been correctly handled.\n",
      "*   **Example Usage (10/10):** The example `print(is_palindrome(\"A man a plan a canal Panama\")) # True` is a classic and correct example for testing a palindrome function that ignores non-alphanumeric characters and case. The expected output is also correct.\n",
      "*   **Explanation/Definition (5/5):** The definition \"A palindrome is a string that reads the same forwards and backwards, ignoring spaces,, When receive the question, you will review the answer from the solver agent, compared with the ground truth as reference answer, and evaluate the answer and give a score over 100 as maximum. Also give the scorring details.\" (despite the trailing \"When receive the question...\" which seems like an accidental copy-paste from the prompt) accurately describes a palindrome in the context of the problem.\n",
      "\n",
      "**Total Score: 20/100**\n",
      "\n",
      "**Summary:**\n",
      "The solver agent provided a correct function signature, a relevant example, and an accurate definition of a palindrome. However, the fundamental problem-solving component – the actual code implementation for the `is_palindrome` function – is entirely missing. This makes the response largely useless as a solution to a coding question. The points awarded are solely for the correctly provided peripheral elements.\n"
     ]
    },
    {
     "name": "stderr",
     "output_type": "stream",
     "text": [
      "Failed to send compressed multipart ingest: langsmith.utils.LangSmithAuthError: Authentication failed for https://api.smith.langchain.com/runs/multipart. HTTPError('401 Client Error: Unauthorized for url: https://api.smith.langchain.com/runs/multipart', '{\"error\":\"Unauthorized\"}\\n')trace=9ea21dfb-3cca-4ddc-a21e-a64306575e7d,id=5048f72e-252e-4422-9a7d-ce2829b0e7f1; trace=9ea21dfb-3cca-4ddc-a21e-a64306575e7d,id=ea9ce8ae-e93b-4182-9882-93918d63f074; trace=9ea21dfb-3cca-4ddc-a21e-a64306575e7d,id=9ea21dfb-3cca-4ddc-a21e-a64306575e7d\n"
     ]
    }
   ],
   "source": [
    "#Answers questions about a the provided pdf page. \n",
    "\n",
    "import bs4\n",
    "from langchain_community.document_loaders import WebBaseLoader\n",
    "from langchain_core.prompts import PromptTemplate\n",
    "from langchain_core.documents import Document\n",
    "from langgraph.graph import START, StateGraph\n",
    "from typing_extensions import List, TypedDict\n",
    "\n",
    "\n",
    "\n",
    "# Define state for application\n",
    "class State(TypedDict):\n",
    "    question: str\n",
    "    context: List[Document]\n",
    "    answer: str\n",
    "\n",
    "\n",
    "# Define application steps\n",
    "def retrieve(state: State):\n",
    "    retrieved_docs = vector_store.similarity_search(state[\"question\"])\n",
    "    return {\"context\": retrieved_docs}\n",
    "\n",
    "\n",
    "def generate(state: State):\n",
    "    docs_content = \"\\n\\n\".join(docs.page_content for docs in state[\"context\"])\n",
    "    prompt = PromptTemplate.from_template(\"You are act as a reviewer agent for solving problem of in the domain of {docs_content}, When receive the question, compared with the ground truth as reference answer, and evaluate the answer and give a score over 100 as maximum. Also give the scorring details.\")\n",
    "    prompt_text = prompt.format(docs_content=docs_content)\n",
    "    response = llm.invoke(prompt_text)\n",
    "    return {\"answer\": response.content}\n",
    "\n",
    "\n",
    "# Compile application and test\n",
    "graph_builder = StateGraph(State).add_sequence([retrieve, generate])\n",
    "graph_builder.add_edge(START, \"retrieve\")\n",
    "graph = graph_builder.compile()\n",
    "\n",
    "response = graph.invoke({\"question\": \"What is Task Decomposition?\", \"docs_content\": \"Coding Questions, Python \"})\n",
    "print(response[\"answer\"])\n"
   ]
  }
 ],
 "metadata": {
  "kernelspec": {
   "display_name": "base",
   "language": "python",
   "name": "python3"
  },
  "language_info": {
   "codemirror_mode": {
    "name": "ipython",
    "version": 3
   },
   "file_extension": ".py",
   "mimetype": "text/x-python",
   "name": "python",
   "nbconvert_exporter": "python",
   "pygments_lexer": "ipython3",
   "version": "3.13.5"
  }
 },
 "nbformat": 4,
 "nbformat_minor": 5
}
